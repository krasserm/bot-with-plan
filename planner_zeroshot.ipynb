{
 "cells": [
  {
   "cell_type": "markdown",
   "id": "50ad4a2b",
   "metadata": {},
   "source": [
    "See [example_agent.ipynb](https://github.com/krasserm/grammar-based-agents/blob/wip-article-2/example_agent.ipynb) for a fully documented version of this notebook based on an [earlier version](https://github.com/krasserm/grammar-based-agents/tree/wip-article-2) of this project. The following code is compatible with the latest version."
   ]
  },
  {
   "cell_type": "code",
   "execution_count": 1,
   "id": "ee00b78e-aa5f-4803-9850-3e7766934763",
   "metadata": {},
   "outputs": [],
   "source": [
    "from sentence_transformers import SentenceTransformer, CrossEncoder\n",
    "\n",
    "from gba.client import MistralInstruct, Llama3Instruct, LlamaCppClient\n",
    "\n",
    "\n",
    "mistral_instruct = MistralInstruct(\n",
    "    llm=LlamaCppClient(url=\"http://localhost:8081/completion\", temperature=-1),\n",
    ")\n",
    "\n",
    "llama3_instruct = Llama3Instruct(\n",
    "    llm=LlamaCppClient(url=\"http://localhost:8084/completion\", temperature=-1),\n",
    ")\n",
    "\n",
    "embedding_model = SentenceTransformer(\n",
    "    \"mixedbread-ai/mxbai-embed-large-v1\",\n",
    "    device=\"cuda:0\",\n",
    ")\n",
    "\n",
    "rerank_model = CrossEncoder(\n",
    "    \"mixedbread-ai/mxbai-rerank-large-v1\",\n",
    "    device=\"cuda:0\",\n",
    ")\n",
    "\n",
    "searxng_endopoint = \"http://localhost:8080\""
   ]
  },
  {
   "cell_type": "code",
   "execution_count": 2,
   "id": "ff545e07-41ef-4461-b271-d36eb8997cea",
   "metadata": {},
   "outputs": [
    {
     "name": "stderr",
     "output_type": "stream",
     "text": [
      "Loading int8 search index...\n",
      "Loading document mapping...\n",
      "Loading binary search index...\n"
     ]
    }
   ],
   "source": [
    "from gba.agent import Agent\n",
    "from gba.client import ChatClient\n",
    "from gba.planner import ZeroShotPlanner\n",
    "from gba.tools import *\n",
    "from gba.tools.functions import *\n",
    "\n",
    "\n",
    "search_wikipedia_tool = SearchWikipediaTool(\n",
    "    llm=llama3_instruct,\n",
    "    embedding_model=embedding_model,\n",
    "    rerank_model=rerank_model,                    \n",
    "    top_k_nodes=10,\n",
    "    top_k_related_documents=1,\n",
    "    top_k_related_nodes=3,\n",
    ")\n",
    "\n",
    "search_internet_tool = SearchInternetTool(\n",
    "    llm=llama3_instruct,\n",
    "    rerank_model=rerank_model,\n",
    "    searxng_endpoint=searxng_endopoint,\n",
    "    fetch_webpage_timeout=5.0,\n",
    "    top_k_documents=3,\n",
    "    top_k_nodes_per_document=5,\n",
    "    top_k_snippets=None,\n",
    ")\n",
    "\n",
    "summarizer = ResultSummarizer(model=llama3_instruct)\n",
    "\n",
    "tools = [\n",
    "    AskTool(),\n",
    "    CalculateTool(model=llama3_instruct, summarizer=summarizer),\n",
    "    FunctionCallTool(model=llama3_instruct, fn=create_event),\n",
    "    FunctionCallTool(model=llama3_instruct, fn=send_email),\n",
    "    FunctionCallTool(model=llama3_instruct, fn=search_images),\n",
    "    search_internet_tool,\n",
    "    search_wikipedia_tool,    \n",
    "    RespondTool(model=llama3_instruct),\n",
    "]\n",
    "\n",
    "client = ChatClient(model=mistral_instruct)\n",
    "planner = ZeroShotPlanner(client=client, tools_spec=ToolsSpec(tools))\n",
    "agent = Agent(planner=planner, tools=tools)"
   ]
  },
  {
   "cell_type": "code",
   "execution_count": 4,
   "id": "05dfed48-9d7c-4ada-85cd-f5c4948d0fae",
   "metadata": {},
   "outputs": [
    {
     "name": "stdout",
     "output_type": "stream",
     "text": [
      "Task: Search the internet to find out who Leo DiCaprio's current girlfriend is.\n"
     ]
    },
    {
     "name": "stderr",
     "output_type": "stream",
     "text": [
      "Searching the internet for query 'Leo DiCaprio current girlfriend'\n"
     ]
    },
    {
     "name": "stdout",
     "output_type": "stream",
     "text": [
      "Observation: According to the context, Vittoria Ceretti is Leonardo DiCaprio's new model girlfriend.\n",
      "\n",
      "Task: Search the internet to find out the age of Vittoria Ceretti.\n"
     ]
    },
    {
     "name": "stderr",
     "output_type": "stream",
     "text": [
      "Searching the internet for query 'What is Vittoria Ceretti's age?'\n"
     ]
    },
    {
     "name": "stdout",
     "output_type": "stream",
     "text": [
      "Observation: As of 2023, Vittoria Ceretti is 25 years old.\n",
      "\n",
      "Task: Calculate the value of 25 raised to the power of 0.24.\n",
      "```python\n",
      "vittoria_age = 25\n",
      "result = pow(vittoria_age, 0.24)\n",
      "```\n",
      "Observation: 25 raised to the power of 0.24 is 2.165237809112449.\n",
      "\n"
     ]
    },
    {
     "data": {
      "text/plain": [
       "\"Leo DiCaprio's current girlfriend is Vittoria Ceretti, who is 25 years old and her age raised to the power of 0.24 is approximately 2.165237809112449.\""
      ]
     },
     "execution_count": 4,
     "metadata": {},
     "output_type": "execute_result"
    }
   ],
   "source": [
    "agent.run(\"who is Leo DiCaprio's current girlfriend and what is her age raised to the power of 0.24?\")"
   ]
  },
  {
   "cell_type": "code",
   "execution_count": 5,
   "id": "8a116634-ba28-4913-8cf3-85c8b2c2a533",
   "metadata": {},
   "outputs": [
    {
     "name": "stdout",
     "output_type": "stream",
     "text": [
      "Task: Creating Martin's birthday party event on Dec. 17th, 2023 at 8 PM and generating a one-line invitation.\n",
      "Observation: Event Martin's birthday party successfully added to calendar, date=2023-12-17, time=20:00:00\n",
      "\n"
     ]
    },
    {
     "data": {
      "text/plain": [
       "\"You're invited to Martin's birthday party on December 17th, 2023 at 8pm!\""
      ]
     },
     "execution_count": 5,
     "metadata": {},
     "output_type": "execute_result"
    }
   ],
   "source": [
    "agent.run(\"Add Martin's birthday party, starting Dec. 17th 2023 8pm, to my calendar and respond with a one-line invitation\")"
   ]
  },
  {
   "cell_type": "code",
   "execution_count": 6,
   "id": "e8e31eef-2a6e-4880-8596-b3a9ebf10aa2",
   "metadata": {},
   "outputs": [
    {
     "data": {
      "text/plain": [
       "'Why was the math book sad? Because it had too many problems.'"
      ]
     },
     "execution_count": 6,
     "metadata": {},
     "output_type": "execute_result"
    }
   ],
   "source": [
    "agent.run(\"Tell me a joke\")"
   ]
  },
  {
   "cell_type": "markdown",
   "id": "1f103bae-02ab-4a6d-8198-b1c28294f121",
   "metadata": {},
   "source": [
    "### Conversational tool use\n",
    "\n"
   ]
  },
  {
   "cell_type": "code",
   "execution_count": null,
   "id": "2089e5ed-274d-4376-9756-d37b6b0c0cfd",
   "metadata": {},
   "outputs": [],
   "source": [
    "conversational_agent = Agent(planner=planner, tools=tools, conversational=True)"
   ]
  },
  {
   "cell_type": "code",
   "execution_count": null,
   "id": "6eacee1f-a175-4f33-b351-28a5d7d4122e",
   "metadata": {},
   "outputs": [],
   "source": [
    "conversational_agent.run(\"I want an image of a dog\")"
   ]
  },
  {
   "cell_type": "code",
   "execution_count": null,
   "id": "107df761-fc2f-4b3a-98b5-1ded89256db8",
   "metadata": {},
   "outputs": [],
   "source": [
    "conversational_agent.run(\"It should be brown\")"
   ]
  },
  {
   "cell_type": "code",
   "execution_count": null,
   "id": "07f51697-442d-49e2-8bd9-785d9855a414",
   "metadata": {},
   "outputs": [],
   "source": [
    "conversational_agent.run(\"Find an image with two\")"
   ]
  }
 ],
 "metadata": {
  "kernelspec": {
   "display_name": "Python 3 (ipykernel)",
   "language": "python",
   "name": "python3"
  },
  "language_info": {
   "codemirror_mode": {
    "name": "ipython",
    "version": 3
   },
   "file_extension": ".py",
   "mimetype": "text/x-python",
   "name": "python",
   "nbconvert_exporter": "python",
   "pygments_lexer": "ipython3",
   "version": "3.10.14"
  }
 },
 "nbformat": 4,
 "nbformat_minor": 5
}
