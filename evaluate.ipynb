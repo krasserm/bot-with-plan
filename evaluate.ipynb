{
 "cells": [
  {
   "cell_type": "code",
   "execution_count": null,
   "id": "74a82c85-60c3-40e3-bd9a-448afecca32a",
   "metadata": {},
   "outputs": [],
   "source": [
    "import json\n",
    "from pathlib import Path\n",
    "from collections import Counter\n",
    "\n",
    "import numpy as np\n",
    "import matplotlib.pyplot as plt\n",
    "import pandas as pd\n",
    "\n",
    "pd.set_option('display.max_rows', 1000)"
   ]
  },
  {
   "cell_type": "code",
   "execution_count": null,
   "id": "4e656c24-487c-4025-a9ac-844591c44fe5",
   "metadata": {},
   "outputs": [],
   "source": [
    "def get_ratings(path):\n",
    "    ratings = []\n",
    "    names = []\n",
    "    for filepath in path.glob(\"*.json\"):\n",
    "        with open(filepath, \"r\") as f:\n",
    "            score_json = json.load(f)\n",
    "        ratings.append(score_json[\"final_answer_rating\"])\n",
    "        names.append(filepath.stem)\n",
    "    return np.array(ratings), np.array(names, dtype=object)"
   ]
  },
  {
   "cell_type": "code",
   "execution_count": null,
   "id": "08821aa4-0cd7-40c5-b87d-93b95c997a12",
   "metadata": {},
   "outputs": [],
   "source": [
    "def key(name):\n",
    "    a, b = name.split(\"_\")\n",
    "    return int(a), int(b)\n",
    "\n",
    "def rating_dict(ratings, names):\n",
    "    return {n: r for r, n in zip(ratings, names)}\n",
    "\n",
    "def sort_by_name(ratings, names):\n",
    "    names_sorted = sorted(names, key=key)\n",
    "    rd = rating_dict(ratings, names)\n",
    "    return [rd[n] for n in names_sorted], names_sorted"
   ]
  },
  {
   "cell_type": "code",
   "execution_count": null,
   "id": "6d0cdd0a-7e2e-4077-bfd4-d8b3a3884a2f",
   "metadata": {},
   "outputs": [],
   "source": [
    "ratings_1, names_1 = sort_by_name(*get_ratings(Path(\"output/evaluations\")))"
   ]
  },
  {
   "cell_type": "code",
   "execution_count": null,
   "id": "5afbba60-28ae-4f47-9d89-4687aa7656d6",
   "metadata": {},
   "outputs": [],
   "source": [
    "Counter(ratings_1)"
   ]
  },
  {
   "cell_type": "code",
   "execution_count": null,
   "id": "35a0678e-8edc-46cc-a75c-0e6ce870171e",
   "metadata": {
    "scrolled": true
   },
   "outputs": [],
   "source": [
    "df = pd.DataFrame({\n",
    "    \"names\": names_1,\n",
    "    \"ratings\": ratings_1,\n",
    "})\n",
    "df"
   ]
  },
  {
   "cell_type": "code",
   "execution_count": null,
   "id": "f7120c2d-216f-4d5b-9900-afdc6da2fa58",
   "metadata": {
    "scrolled": true
   },
   "outputs": [],
   "source": [
    "names_arr = np.array(names_1, dtype=object)\n",
    "ratings_arr = np.array(ratings_1)\n",
    "\n",
    "mask = ratings_arr <= 3\n",
    "\n",
    "df = pd.DataFrame({\n",
    "    \"names\": names_arr[mask],\n",
    "    \"ratings\": ratings_arr[mask],\n",
    "})\n",
    "df"
   ]
  },
  {
   "cell_type": "code",
   "execution_count": null,
   "id": "0450468b-cf03-4dea-a7c4-62779fc83503",
   "metadata": {},
   "outputs": [],
   "source": [
    "num_steps = []\n",
    "\n",
    "for name in names_1:\n",
    "    t_file = Path(f\"output/trajectories/{name}.json\")\n",
    "\n",
    "    with open(t_file, \"r\") as f:\n",
    "        t = json.load(f)\n",
    "\n",
    "    if len(t) == 0:\n",
    "        continue\n",
    "\n",
    "    steps = len(t) - 1\n",
    "    num_steps.append(steps)\n",
    "\n",
    "plt.hist(num_steps)"
   ]
  }
 ],
 "metadata": {
  "kernelspec": {
   "display_name": "Python 3 (ipykernel)",
   "language": "python",
   "name": "python3"
  },
  "language_info": {
   "codemirror_mode": {
    "name": "ipython",
    "version": 3
   },
   "file_extension": ".py",
   "mimetype": "text/x-python",
   "name": "python",
   "nbconvert_exporter": "python",
   "pygments_lexer": "ipython3",
   "version": "3.9.19"
  }
 },
 "nbformat": 4,
 "nbformat_minor": 5
}
