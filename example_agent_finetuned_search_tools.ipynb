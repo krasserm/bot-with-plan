{
 "cells": [
  {
   "cell_type": "code",
   "execution_count": 1,
   "id": "95f48867-1ec8-4e94-83d2-7b56ff4e725a",
   "metadata": {},
   "outputs": [],
   "source": [
    "import logging\n",
    "\n",
    "DEFAULT_FORMAT = \"%(asctime)s [%(process)d] [%(name)s] [%(levelname)s]: %(message)s\"\n",
    "logging.basicConfig(level=logging.WARNING, format=DEFAULT_FORMAT)\n",
    "\n",
    "SEARXNG_ENDPOINT = \"http://localhost:8080\""
   ]
  },
  {
   "cell_type": "code",
   "execution_count": 2,
   "id": "a056b978-b909-487b-a20f-1f6f4543b182",
   "metadata": {},
   "outputs": [
    {
     "name": "stderr",
     "output_type": "stream",
     "text": [
      "/home/glados/miniconda3/envs/grammar-based-agents/lib/python3.10/site-packages/tqdm/auto.py:21: TqdmWarning: IProgress not found. Please update jupyter and ipywidgets. See https://ipywidgets.readthedocs.io/en/stable/user_install.html\n",
      "  from .autonotebook import tqdm as notebook_tqdm\n",
      "/home/glados/miniconda3/envs/grammar-based-agents/lib/python3.10/site-packages/huggingface_hub/file_download.py:1132: FutureWarning: `resume_download` is deprecated and will be removed in version 1.0.0. Downloads always resume when possible. If you want to force a new download, use `force_download=True`.\n",
      "  warnings.warn(\n",
      "/home/glados/miniconda3/envs/grammar-based-agents/lib/python3.10/site-packages/huggingface_hub/file_download.py:1132: FutureWarning: `resume_download` is deprecated and will be removed in version 1.0.0. Downloads always resume when possible. If you want to force a new download, use `force_download=True`.\n",
      "  warnings.warn(\n"
     ]
    }
   ],
   "source": [
    "from gba.client import MistralInstruct, Llama3Instruct, LlamaCppClient\n",
    "from sentence_transformers import SentenceTransformer, CrossEncoder\n",
    "\n",
    "# Proxy for 8-bit finetuned Mistral-7B-v0.1 planner\n",
    "mistral_finetuned = MistralInstruct(\n",
    "    llm=LlamaCppClient(url=\"http://localhost:8082/completion\", temperature=-1),\n",
    ")\n",
    "\n",
    "# Proxy for 4-bit quantized Llama-3-8B-Instruct\n",
    "llama3_instruct = Llama3Instruct(\n",
    "    llm=LlamaCppClient(url=\"http://localhost:8084/completion\", temperature=-1),\n",
    ")\n",
    "\n",
    "# Proxy for 8-bit quantized NexusRaven-V2-13B\n",
    "nexus_raven = LlamaCppClient(url=\"http://localhost:8089/completion\", temperature=-1)\n",
    "\n",
    "embedding_model = SentenceTransformer(\n",
    "    \"mixedbread-ai/mxbai-embed-large-v1\",\n",
    "    device=\"cuda:0\",\n",
    ")\n",
    "\n",
    "rerank_model = CrossEncoder(\n",
    "    \"mixedbread-ai/mxbai-rerank-large-v1\",\n",
    "    device=\"cuda:1\",\n",
    ")"
   ]
  },
  {
   "cell_type": "code",
   "execution_count": 4,
   "id": "cc7e469a-4b84-4f69-a618-f4c041ecf4f0",
   "metadata": {},
   "outputs": [
    {
     "name": "stderr",
     "output_type": "stream",
     "text": [
      "2024-05-27 22:17:11,938 [1999336] [gba.tools.search.search_wikipedia] [WARNING]: Loading int8 search index...\n",
      "2024-05-27 22:17:13,898 [1999336] [gba.tools.search.search_wikipedia] [WARNING]: Loading document mapping...\n",
      "2024-05-27 22:17:14,039 [1999336] [gba.tools.search.search_wikipedia] [WARNING]: Loading binary search index...\n"
     ]
    }
   ],
   "source": [
    "from pathlib import Path\n",
    "import logging\n",
    "\n",
    "from datasets import load_from_disk\n",
    "from gba.client import Llama3Instruct, LlamaCppClient\n",
    "from gba.utils import Scratchpad\n",
    "from gba.tools.search import SearchInternetTool, SearchWikipediaTool, ContentExtractor\n",
    "\n",
    "from gba.tools.search.search_wikipedia import SearchWikipediaTool\n",
    "from gba.tools.search.extract import ContentExtractor\n",
    "\n",
    "search_wikipedia_tool = SearchWikipediaTool(\n",
    "    llm=llama3_instruct,\n",
    "    embedding_model=embedding_model,\n",
    "    rerank_model=rerank_model,                    \n",
    "    top_k_nodes=10,\n",
    "    top_k_related_documents=1,\n",
    "    top_k_related_nodes=3,\n",
    "    extractor=ContentExtractor(model=llama3_instruct),\n",
    ")\n",
    "\n",
    "search_internet_tool = SearchInternetTool(\n",
    "    llm=llama3_instruct,\n",
    "    rerank_model=rerank_model,\n",
    "    searxng_endpoint=SEARXNG_ENDPOINT,\n",
    "    fetch_webpage_timeout=5.0,\n",
    "    top_k_documents=3,\n",
    "    top_k_nodes_per_document=5,\n",
    "    top_k_snippets=None,\n",
    "    extractor=ContentExtractor(model=llama3_instruct),\n",
    ")"
   ]
  },
  {
   "cell_type": "code",
   "execution_count": 5,
   "id": "94da1d5d-7079-4acf-a377-68d6bfb5f53c",
   "metadata": {},
   "outputs": [
    {
     "name": "stderr",
     "output_type": "stream",
     "text": [
      "2024-05-27 22:17:20,350 [1999336] [gba.tools.search.search_wikipedia] [WARNING]: Searching wikipedia for query 'What are the physical characteristics of Halicreas minimum?'\n"
     ]
    },
    {
     "data": {
      "text/plain": [
       "'The physical characteristics of Halicreas minimum include an umbrella 30–40\\xa0mm wide, thick, disk-like with a small apical projection, and 8 clusters of gelatinous papillae above the margin.'"
      ]
     },
     "execution_count": 5,
     "metadata": {},
     "output_type": "execute_result"
    }
   ],
   "source": [
    "search_wikipedia_tool.run(\n",
    "    task=\"what are the physical characteristics of the Halicreas minimum\",\n",
    "    request=\"\",\n",
    "    scratchpad=None,\n",
    ")"
   ]
  },
  {
   "cell_type": "code",
   "execution_count": 6,
   "id": "ab10b1bc-60be-41bc-b903-9f862a8f921b",
   "metadata": {},
   "outputs": [
    {
     "name": "stderr",
     "output_type": "stream",
     "text": [
      "2024-05-27 22:17:29,400 [1999336] [gba.tools.search.search_internet] [WARNING]: Searching the internet for query 'What is Leo DiCaprio's current girlfriend's name and age?'\n"
     ]
    },
    {
     "data": {
      "text/plain": [
       "\"Leo DiCaprio's current girlfriend is Vittoria Ceretti, who is 25 years old.\""
      ]
     },
     "execution_count": 6,
     "metadata": {},
     "output_type": "execute_result"
    }
   ],
   "source": [
    "search_internet_tool.run(\n",
    "    task=\"Leo DiCaprio's current girlfriend's name and age\", \n",
    "    scratchpad=None,\n",
    "    request=\"\"\n",
    ")"
   ]
  },
  {
   "cell_type": "code",
   "execution_count": 7,
   "id": "d8f6e2f0-547a-4a60-bb13-1418003d3eeb",
   "metadata": {},
   "outputs": [
    {
     "name": "stderr",
     "output_type": "stream",
     "text": [
      "/home/glados/miniconda3/envs/grammar-based-agents/lib/python3.10/site-packages/huggingface_hub/file_download.py:1132: FutureWarning: `resume_download` is deprecated and will be removed in version 1.0.0. Downloads always resume when possible. If you want to force a new download, use `force_download=True`.\n",
      "  warnings.warn(\n"
     ]
    }
   ],
   "source": [
    "from gba.agent import Agent\n",
    "from gba.client import ChatClient\n",
    "from gba.planner import FineTunedPlanner\n",
    "from gba.search import SearchEngine\n",
    "from gba.store import DocumentStore\n",
    "from gba.summary import ResultSummarizer\n",
    "from gba.tools import *\n",
    "\n",
    "from example_docs import DOCUMENTS\n",
    "from example_funcs import create_event\n",
    "\n",
    "store = DocumentStore(path=\".chroma\")\n",
    "engine = SearchEngine(store=store)\n",
    "\n",
    "if store.count() == 0:\n",
    "    for i, document in enumerate(DOCUMENTS):\n",
    "        store.add(identifier=str(i), document=document)\n",
    "\n",
    "summarizer = ResultSummarizer(model=llama3_instruct)\n",
    "\n",
    "tools = [\n",
    "    AskTool(),\n",
    "    search_wikipedia_tool,\n",
    "    search_internet_tool,\n",
    "    CalculateTool(model=llama3_instruct, summarizer=summarizer),\n",
    "    FunctionCallTool(model=nexus_raven, fn=create_event),\n",
    "    FunctionCallTool(model=nexus_raven, fn=engine.search_images),\n",
    "    RespondTool(model=llama3_instruct),\n",
    "]\n",
    "\n",
    "client = ChatClient(model=mistral_finetuned)\n",
    "planner = FineTunedPlanner(client=client)\n",
    "agent = Agent(planner=planner, tools=tools, ask_user=False)"
   ]
  },
  {
   "cell_type": "code",
   "execution_count": 8,
   "id": "1f2b77c9-4220-41c6-907d-66052d2e1fd8",
   "metadata": {},
   "outputs": [
    {
     "name": "stdout",
     "output_type": "stream",
     "text": [
      "Task: Search for Leo DiCaprio's current girlfriend's name and age.\n"
     ]
    },
    {
     "name": "stderr",
     "output_type": "stream",
     "text": [
      "2024-05-27 22:17:46,544 [1999336] [gba.tools.search.search_internet] [WARNING]: Searching the internet for query 'What is Leo DiCaprio's current girlfriend's name and age?'\n"
     ]
    },
    {
     "name": "stdout",
     "output_type": "stream",
     "text": [
      "Observation: According to the context, Leonardo DiCaprio's current girlfriend is Vittoria Ceretti, who is 25 years old.\n",
      "\n",
      "Task: Calculate the result of 25 raised to the power of 0.24.\n",
      "```python\n",
      "vittoria_age = 25\n",
      "result = pow(vittoria_age, 0.24)\n",
      "```\n",
      "Observation: 25 raised to the power of 0.24 is 2.165237809112449.\n",
      "\n"
     ]
    },
    {
     "data": {
      "text/plain": [
       "\"According to the available information, Vittoria Ceretti, Leonardo DiCaprio's current girlfriend, is 25 years old and raised to the power of 0.24 is approximately 2.165237809112449.\""
      ]
     },
     "execution_count": 8,
     "metadata": {},
     "output_type": "execute_result"
    }
   ],
   "source": [
    "agent.run(\"what is Leo DiCaprio's current girlfriend's age raised to the 0.24 power?\")"
   ]
  },
  {
   "cell_type": "code",
   "execution_count": 9,
   "id": "e6198e8c-dd2b-4452-8a1a-608c4a3bed2d",
   "metadata": {},
   "outputs": [
    {
     "name": "stdout",
     "output_type": "stream",
     "text": [
      "Task: Search Wikipedia for the estimated year sharks first appeared on Earth.\n"
     ]
    },
    {
     "name": "stderr",
     "output_type": "stream",
     "text": [
      "2024-05-27 22:18:55,975 [1999336] [gba.tools.search.search_wikipedia] [WARNING]: Searching wikipedia for query 'What is the estimated year sharks first appeared on Earth?'\n"
     ]
    },
    {
     "name": "stdout",
     "output_type": "stream",
     "text": [
      "Observation: According to the context, sharks first appeared on Earth around 450 million years ago during the Late Ordovician Period.\n",
      "\n",
      "Task: Search Wikipedia for the estimated year octopuses first appeared on Earth.\n"
     ]
    },
    {
     "name": "stderr",
     "output_type": "stream",
     "text": [
      "2024-05-27 22:19:08,346 [1999336] [gba.tools.search.search_wikipedia] [WARNING]: Searching wikipedia for query 'What is the estimated year octopuses first appeared on Earth?'\n"
     ]
    },
    {
     "name": "stdout",
     "output_type": "stream",
     "text": [
      "Observation: The estimated year octopuses first appeared on Earth is over 470 million years ago.\n",
      "\n",
      "Task: Calculate the difference between 470 million years and 450 million years.\n",
      "```python\n",
      "shark_appearance_year = 450 * 10 ** 6\n",
      "octopus_appearance_year = 470 * 10 ** 6\n",
      "result = octopus_appearance_year - shark_appearance_year\n",
      "```\n",
      "Observation: The difference between 470 million years and 450 million years is 20,000,000.\n",
      "\n"
     ]
    },
    {
     "data": {
      "text/plain": [
       "'Sharks appeared on Earth around 450 million years ago, while octopuses first appeared over 470 million years ago, which means that octopuses appeared earlier by approximately 20 million years.'"
      ]
     },
     "execution_count": 9,
     "metadata": {},
     "output_type": "execute_result"
    }
   ],
   "source": [
    "agent.run(\"How many years did sharks appear earlier on Earth, compared to octopuses?\")"
   ]
  },
  {
   "cell_type": "code",
   "execution_count": 10,
   "id": "ee0b227c-963d-44c6-aa2a-cedb72b94fba",
   "metadata": {},
   "outputs": [
    {
     "name": "stdout",
     "output_type": "stream",
     "text": [
      "Task: Search Wikipedia for the age of sharks on Earth.\n"
     ]
    },
    {
     "name": "stderr",
     "output_type": "stream",
     "text": [
      "2024-05-27 22:19:38,177 [1999336] [gba.tools.search.search_wikipedia] [WARNING]: Searching wikipedia for query 'What is the age of sharks on Earth?'\n"
     ]
    },
    {
     "name": "stdout",
     "output_type": "stream",
     "text": [
      "Observation: Sharks have inhabited our oceans for more than 500 million years, pre-dating the first dinosaurs by 100 million years.\n",
      "\n",
      "Task: Search Wikipedia for the age of elephants on Earth.\n"
     ]
    },
    {
     "name": "stderr",
     "output_type": "stream",
     "text": [
      "2024-05-27 22:19:52,899 [1999336] [gba.tools.search.search_wikipedia] [WARNING]: Searching wikipedia for query 'What is the average age of elephants on Earth?'\n"
     ]
    },
    {
     "name": "stdout",
     "output_type": "stream",
     "text": [
      "Observation: Elephants reach adulthood at 17 years of age in both sexes, and their average life expectancy is 60 years in the wild and 80 in captivity.\n",
      "\n",
      "Task: Calculate the difference in years between 500 million years (the age of sharks) and the sum of 17 years (adulthood of elephants) and 60-80 years (average life expectancy of elephants).\n",
      "```python\n",
      "shark_age = 500 * 10 ** 6\n",
      "elephant_adulthood = 17\n",
      "elephant_life_expectancy = [60, 80]\n",
      "elephant_sum = elephant_adulthood + max(elephant_life_expectancy)\n",
      "result = shark_age - elephant_sum\n",
      "```\n",
      "Observation: The difference in years between 500 million years and the sum of 17 years and 60-80 years is approximately 499,999,903 years.\n",
      "\n",
      "Task: Calculate the difference in years between 500 million years (the age of sharks) and the average life expectancy of elephants (60-80 years).\n",
      "```python\n",
      "shark_age = 500000000\n",
      "elephant_adult_age = 17\n",
      "elephant_life_expectancy_wild = 60\n",
      "elephant_life_expectancy_captive = 80\n",
      "result = shark_age - (elephant_adult_age + elephant_life_expectancy_wild)\n",
      "```\n",
      "Observation: The difference in years between the age of sharks and the average life expectancy of elephants is 499,999,923.\n",
      "\n"
     ]
    },
    {
     "data": {
      "text/plain": [
       "'Sharks appeared on Earth approximately 499,999,923 years earlier than elephants.'"
      ]
     },
     "execution_count": 10,
     "metadata": {},
     "output_type": "execute_result"
    }
   ],
   "source": [
    "agent.run(\"How many years did sharks appear earlier on Earth, compared to elephants?\")"
   ]
  },
  {
   "cell_type": "code",
   "execution_count": 11,
   "id": "f1506e88-ad3f-4a0c-93bc-f4b2bd185d80",
   "metadata": {},
   "outputs": [
    {
     "name": "stdout",
     "output_type": "stream",
     "text": [
      "Task: Search Wikipedia for the air date of the first episode of The Simpsons.\n"
     ]
    },
    {
     "name": "stderr",
     "output_type": "stream",
     "text": [
      "2024-05-27 22:20:42,375 [1999336] [gba.tools.search.search_wikipedia] [WARNING]: Searching wikipedia for query 'What is the air date of the first episode of The Simpsons?'\n"
     ]
    },
    {
     "name": "stdout",
     "output_type": "stream",
     "text": [
      "Observation: The air date of the first episode of The Simpsons is December 17, 1989.\n",
      "\n",
      "Task: Calculate the age of The Simpsons by subtracting 1989 from 2023.\n",
      "```python\n",
      "air_date_year = 1989\n",
      "current_year = 2023\n",
      "result = current_year - air_date_year\n",
      "```\n",
      "Observation: The Simpsons is 34 years old.\n",
      "\n"
     ]
    },
    {
     "data": {
      "text/plain": [
       "'The first episode of The Simpsons aired on December 17, 1989, and the series is currently 34 years old.'"
      ]
     },
     "execution_count": 11,
     "metadata": {},
     "output_type": "execute_result"
    }
   ],
   "source": [
    "agent.run(\"When did the first episode of the Simpsons air and how old is the series now?\")"
   ]
  },
  {
   "cell_type": "code",
   "execution_count": 12,
   "id": "af3bdb7e-ce89-451b-9572-6171ba9de381",
   "metadata": {},
   "outputs": [
    {
     "name": "stdout",
     "output_type": "stream",
     "text": [
      "Task: Search for the release date of The Witcher 3.\n"
     ]
    },
    {
     "name": "stderr",
     "output_type": "stream",
     "text": [
      "2024-05-27 22:21:11,873 [1999336] [gba.tools.search.search_wikipedia] [WARNING]: Searching wikipedia for query 'What is the release date of The Witcher 3?'\n"
     ]
    },
    {
     "name": "stdout",
     "output_type": "stream",
     "text": [
      "Observation: The Witcher 3: Wild Hunt was released worldwide on 19 May 2015.\n",
      "\n",
      "Task: Search for the release date of Cyberpunk 2077.\n"
     ]
    },
    {
     "name": "stderr",
     "output_type": "stream",
     "text": [
      "2024-05-27 22:21:24,318 [1999336] [gba.tools.search.search_internet] [WARNING]: Searching the internet for query 'What is the release date of Cyberpunk 2077?'\n"
     ]
    },
    {
     "name": "stdout",
     "output_type": "stream",
     "text": [
      "Observation: Cyberpunk 2077 was released on December 9, 2020.\n",
      "\n",
      "Task: Calculate the number of years between December 9, 2020, and May 19, 2015.\n",
      "```python\n",
      "release_date_wild_hunt = 2015\n",
      "release_date_cyberpunk = 2020\n",
      "release_day_wild_hunt = 19\n",
      "release_month_wild_hunt = 5\n",
      "release_year_wild_hunt = release_date_wild_hunt\n",
      "release_day_cyberpunk = 9\n",
      "release_month_cyberpunk = 12\n",
      "release_year_cyberpunk = release_date_cyberpunk\n",
      "from datetime import datetime\n",
      "date_wild_hunt = datetime(release_year_wild_hunt, release_month_wild_hunt, release_day_wild_hunt)\n",
      "date_cyberpunk = datetime(release_year_cyberpunk, release_month_cyberpunk, release_day_cyberpunk)\n",
      "result = (date_cyberpunk - date_wild_hunt).days / 365.25\n",
      "```\n",
      "Observation: There are 5 years and 5 months between December 9, 2020, and May 19, 2015.\n",
      "\n"
     ]
    },
    {
     "data": {
      "text/plain": [
       "'There are 5 years and 5 months between the release of The Witcher 3 in May 2015 and Cyberpunk 2077 in December 2020.'"
      ]
     },
     "execution_count": 12,
     "metadata": {},
     "output_type": "execute_result"
    }
   ],
   "source": [
    "agent.run(\"How many years are between the release of Witcher 3 and Cyberpunk 2077?\")"
   ]
  },
  {
   "cell_type": "code",
   "execution_count": 13,
   "id": "80487175-62b0-4f47-a94e-44740e603b41",
   "metadata": {},
   "outputs": [
    {
     "name": "stdout",
     "output_type": "stream",
     "text": [
      "Task: Search Wikipedia for the director of Jurassic Park.\n"
     ]
    },
    {
     "name": "stderr",
     "output_type": "stream",
     "text": [
      "2024-05-27 22:21:56,791 [1999336] [gba.tools.search.search_wikipedia] [WARNING]: Searching wikipedia for query 'director of Jurassic Park'\n"
     ]
    },
    {
     "name": "stdout",
     "output_type": "stream",
     "text": [
      "Observation: The director of Jurassic Park is Steven Spielberg.\n",
      "\n",
      "Task: Search Wikipedia for a list of movies directed by Steven Spielberg.\n"
     ]
    },
    {
     "name": "stderr",
     "output_type": "stream",
     "text": [
      "2024-05-27 22:22:06,311 [1999336] [gba.tools.search.search_wikipedia] [WARNING]: Searching wikipedia for query 'Steven Spielberg movies directed'\n"
     ]
    },
    {
     "name": "stdout",
     "output_type": "stream",
     "text": [
      "Observation: Steven Spielberg has directed films such as Jaws (1975), Close Encounters of the Third Kind (1977), E.T. the Extra-Terrestrial (1982), Jurassic Park (1993), Indiana Jones series, Poltergeist (1982 film), and many others.\n",
      "\n"
     ]
    },
    {
     "data": {
      "text/plain": [
       "'The director of Jurassic Park is Steven Spielberg, who has also directed other notable movies such as Jaws, Close Encounters of the Third Kind, E.T. the Extra-Terrestrial, and Indiana Jones series.'"
      ]
     },
     "execution_count": 13,
     "metadata": {},
     "output_type": "execute_result"
    }
   ],
   "source": [
    "agent.run(\"Who directed the movie Jurassic Park and which other movies did this person direct?\")"
   ]
  },
  {
   "cell_type": "code",
   "execution_count": 14,
   "id": "f3b384ee-009c-4453-b67d-47e60d2436ef",
   "metadata": {},
   "outputs": [
    {
     "name": "stdout",
     "output_type": "stream",
     "text": [
      "Task: Search Wikipedia for the director of the movie Saving Private Ryan.\n"
     ]
    },
    {
     "name": "stderr",
     "output_type": "stream",
     "text": [
      "2024-05-27 22:22:49,964 [1999336] [gba.tools.search.search_wikipedia] [WARNING]: Searching wikipedia for query 'Director of Saving Private Ryan'\n"
     ]
    },
    {
     "name": "stdout",
     "output_type": "stream",
     "text": [
      "Observation: The director of the movie Saving Private Ryan is Steven Spielberg.\n",
      "\n",
      "Task: Search Wikipedia for a list of Steven Spielberg's movies and their box office earnings.\n"
     ]
    },
    {
     "name": "stderr",
     "output_type": "stream",
     "text": [
      "2024-05-27 22:22:57,823 [1999336] [gba.tools.search.search_wikipedia] [WARNING]: Searching wikipedia for query 'Steven Spielberg movies box office earnings'\n"
     ]
    },
    {
     "name": "stdout",
     "output_type": "stream",
     "text": [
      "Observation: No information found.\n",
      "\n",
      "Task: Search the internet for a list of Steven Spielberg's movies and their box office earnings.\n"
     ]
    },
    {
     "name": "stderr",
     "output_type": "stream",
     "text": [
      "2024-05-27 22:23:16,233 [1999336] [gba.tools.search.search_internet] [WARNING]: Searching the internet for query 'Steven Spielberg movies box office earnings'\n"
     ]
    },
    {
     "name": "stdout",
     "output_type": "stream",
     "text": [
      "Observation: According to the context, Steven Spielberg's movies and their box office earnings are listed as follows: \"Jurassic Park\" (1993) - $1.114 billion, \"E.T. the Extra-Terrestrial\" (1982) - no specific box office earnings mentioned, and \"Schindler's List\" (1993) - $321 million.\n",
      "\n",
      "Task: Compare the box office earnings of \"Jurassic Park\" ($1.114 billion), \"E.T. the Extra-Terrestrial\" (no specific earnings mentioned), and \"Schindler's List\" ($321 million) to determine which movie had the most successful box office performance.\n",
      "```python\n",
      "jurassic_park_earnings = 1.114 * 10 ** 9\n",
      "schindlers_list_earnings = 321 * 10 ** 6\n",
      "if schindlers_list_earnings > jurassic_park_earnings:\n",
      "    result = \"Schindler's List\"\n",
      "elif schindlers_list_earnings < jurassic_park_earnings:\n",
      "    result = 'Jurassic Park'\n",
      "else:\n",
      "    result = 'Both movies had the same box office earnings.'\n",
      "```\n",
      "Observation: Jurassic Park had the most successful box office performance.\n",
      "\n"
     ]
    },
    {
     "data": {
      "text/plain": [
       "'Steven Spielberg directed the movie Saving Private Ryan, and his most successful movie according to box office numbers is Jurassic Park, which earned $1.114 billion.'"
      ]
     },
     "execution_count": 14,
     "metadata": {},
     "output_type": "execute_result"
    }
   ],
   "source": [
    "agent.run(\"Who directed the movie Saving Private Ryan and which movie from this director was the most successful according to box office numbers?\")"
   ]
  },
  {
   "cell_type": "code",
   "execution_count": 6,
   "id": "d3afb77b-4a5e-49d7-8e02-5a5b50b70f5c",
   "metadata": {},
   "outputs": [
    {
     "name": "stdout",
     "output_type": "stream",
     "text": [
      "Task: Create an event titled 'Martin's Birthday Party' starting on December 17th at 8pm in 2023.\n",
      "Call: create_event(title='Martin\\'s Birthday Party', date='12/17/2023', time='8pm')\n",
      "Observation: Event Martin's Birthday Party successfully added to calendar, date=12/17/2023, time=8pm\n",
      "\n"
     ]
    },
    {
     "data": {
      "text/plain": [
       "\"You're invited to Martin's Birthday Party on December 17th, 2023 at 8pm!\""
      ]
     },
     "execution_count": 6,
     "metadata": {},
     "output_type": "execute_result"
    }
   ],
   "source": [
    "agent.run(\"Add Martin's birthday party, starting Dec. 17th 2023 8pm, \"\n",
    "          \"to my calendar and respond with a one-line invitation\")"
   ]
  },
  {
   "cell_type": "code",
   "execution_count": 7,
   "id": "406808f6-3399-4182-8f24-8d6438ba240c",
   "metadata": {},
   "outputs": [
    {
     "data": {
      "text/plain": [
       "'The 3 primary colors are red, yellow, and blue.'"
      ]
     },
     "execution_count": 7,
     "metadata": {},
     "output_type": "execute_result"
    }
   ],
   "source": [
    "agent.run(\"What are the 3 primary colors?\")"
   ]
  }
 ],
 "metadata": {
  "kernelspec": {
   "display_name": "grammar-based-agents",
   "language": "python",
   "name": "grammar-based-agents"
  },
  "language_info": {
   "codemirror_mode": {
    "name": "ipython",
    "version": 3
   },
   "file_extension": ".py",
   "mimetype": "text/x-python",
   "name": "python",
   "nbconvert_exporter": "python",
   "pygments_lexer": "ipython3",
   "version": "3.10.14"
  }
 },
 "nbformat": 4,
 "nbformat_minor": 5
}
