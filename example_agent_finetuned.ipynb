{
 "cells": [
  {
   "cell_type": "code",
   "execution_count": null,
   "id": "a056b978-b909-487b-a20f-1f6f4543b182",
   "metadata": {},
   "outputs": [],
   "source": [
    "from gba.client import MistralInstruct, Llama3Instruct, LlamaCppClient\n",
    "\n",
    "# Proxy for 8-bit finetuned Mistral-7B-v0.1 planner\n",
    "mistral_finetuned = MistralInstruct(\n",
    "    llm=LlamaCppClient(url=\"http://localhost:8082/completion\", temperature=-1),\n",
    ")\n",
    "\n",
    "# Proxy for 4-bit quantized Llama-3-8B-Instruct\n",
    "llama3_instruct = Llama3Instruct(\n",
    "    llm=LlamaCppClient(url=\"http://localhost:8084/completion\", temperature=-1),\n",
    ")\n",
    "\n",
    "# Proxy for 8-bit quantized NexusRaven-V2-13B\n",
    "nexus_raven = LlamaCppClient(url=\"http://localhost:8089/completion\", temperature=-1)"
   ]
  },
  {
   "cell_type": "code",
   "execution_count": null,
   "id": "d8f6e2f0-547a-4a60-bb13-1418003d3eeb",
   "metadata": {},
   "outputs": [],
   "source": [
    "from gba.agent import Agent\n",
    "from gba.client import ChatClient\n",
    "from gba.planner import FineTunedPlanner\n",
    "from gba.search import SearchEngine\n",
    "from gba.store import DocumentStore\n",
    "from gba.summary import ResultSummarizer\n",
    "from gba.tools import *\n",
    "\n",
    "from example_docs import DOCUMENTS\n",
    "from example_funcs import create_event\n",
    "\n",
    "store = DocumentStore(path=\".chroma\")\n",
    "engine = SearchEngine(store=store)\n",
    "\n",
    "if store.count() == 0:\n",
    "    for i, document in enumerate(DOCUMENTS):\n",
    "        store.add(identifier=str(i), document=document)\n",
    "\n",
    "summarizer = ResultSummarizer(model=llama3_instruct)\n",
    "\n",
    "tools = [\n",
    "    AskTool(),\n",
    "    CalculateTool(model=llama3_instruct, summarizer=None),\n",
    "    FunctionCallTool(model=nexus_raven, fn=create_event),\n",
    "    FunctionCallTool(model=nexus_raven, fn=engine.search_images),\n",
    "    FunctionCallTool(model=nexus_raven, fn=engine.search_internet, summarizer=summarizer),\n",
    "    RespondTool(model=llama3_instruct),\n",
    "]\n",
    "\n",
    "client = ChatClient(model=mistral_finetuned)\n",
    "planner = FineTunedPlanner(client=client)\n",
    "agent = Agent(planner=planner, tools=tools)"
   ]
  },
  {
   "cell_type": "code",
   "execution_count": null,
   "id": "1f2b77c9-4220-41c6-907d-66052d2e1fd8",
   "metadata": {},
   "outputs": [],
   "source": [
    "agent.run(\"what is Leo DiCaprio's current girlfriend's age raised to the 0.24 power?\")"
   ]
  },
  {
   "cell_type": "code",
   "execution_count": null,
   "id": "ee0b227c-963d-44c6-aa2a-cedb72b94fba",
   "metadata": {},
   "outputs": [],
   "source": [
    "agent.run(\"How many years did sharks appear earlier on Earth, compared to octopuses?\")"
   ]
  },
  {
   "cell_type": "code",
   "execution_count": null,
   "id": "d3afb77b-4a5e-49d7-8e02-5a5b50b70f5c",
   "metadata": {},
   "outputs": [],
   "source": [
    "agent.run(\"Add Martin's birthday party, starting Dec. 17th 2023 8pm, \"\n",
    "          \"to my calendar and respond with a one-line invitation\")"
   ]
  },
  {
   "cell_type": "code",
   "execution_count": null,
   "id": "406808f6-3399-4182-8f24-8d6438ba240c",
   "metadata": {},
   "outputs": [],
   "source": [
    "agent.run(\"What are the 3 primary colors?\")"
   ]
  }
 ],
 "metadata": {
  "kernelspec": {
   "display_name": "Python 3 (ipykernel)",
   "language": "python",
   "name": "python3"
  },
  "language_info": {
   "codemirror_mode": {
    "name": "ipython",
    "version": 3
   },
   "file_extension": ".py",
   "mimetype": "text/x-python",
   "name": "python",
   "nbconvert_exporter": "python",
   "pygments_lexer": "ipython3",
   "version": "3.10.14"
  }
 },
 "nbformat": 4,
 "nbformat_minor": 5
}
