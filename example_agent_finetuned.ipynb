{
 "cells": [
  {
   "cell_type": "code",
   "execution_count": 1,
   "id": "a056b978-b909-487b-a20f-1f6f4543b182",
   "metadata": {},
   "outputs": [],
   "source": [
    "from langchain_experimental.chat_models.llm_wrapper import Llama2Chat\n",
    "\n",
    "from gba.client import LlamaCppClient\n",
    "from gba.client.chat import MistralInstruct\n",
    "\n",
    "# Proxy for 8-bit quantized Mistral-7B-Instruct-v0.2\n",
    "mistral_instruct = MistralInstruct(\n",
    "    llm=LlamaCppClient(url=\"http://localhost:8081/completion\", temperature=-1),\n",
    ")\n",
    "\n",
    "# Proxy for 8-bit finetuned Mistral-7B-v0.1 planner\n",
    "mistral_finetuned = MistralInstruct(\n",
    "    llm=LlamaCppClient(url=\"http://localhost:8082/completion\", temperature=-1),\n",
    ")\n",
    "\n",
    "# Proxy for 4-bit quantized CodeLlama-7B-Instruct\n",
    "code_llama = Llama2Chat(\n",
    "    llm=LlamaCppClient(url=\"http://localhost:8088/completion\", temperature=-1),\n",
    ")\n",
    "\n",
    "# Proxy for 8-bit quantized NexusRaven-V2-13B\n",
    "nexus_raven = LlamaCppClient(url=\"http://localhost:8089/completion\", temperature=-1)"
   ]
  },
  {
   "cell_type": "code",
   "execution_count": 3,
   "id": "d8f6e2f0-547a-4a60-bb13-1418003d3eeb",
   "metadata": {},
   "outputs": [],
   "source": [
    "from gba.agent import Agent\n",
    "from gba.client import ChatClient\n",
    "from gba.planner import FineTunedPlanner\n",
    "from gba.search import SearchEngine\n",
    "from gba.store import DocumentStore\n",
    "from gba.summary import ResultSummarizer\n",
    "from gba.tools import *\n",
    "\n",
    "from example_docs import DOCUMENTS\n",
    "from example_funcs import create_event\n",
    "\n",
    "store = DocumentStore(path=\".chroma\")\n",
    "engine = SearchEngine(store=store)\n",
    "\n",
    "if store.count() == 0:\n",
    "    for i, document in enumerate(DOCUMENTS):\n",
    "        store.add(identifier=str(i), document=document)\n",
    "\n",
    "summarizer = ResultSummarizer(model=mistral_instruct)\n",
    "\n",
    "tools = [\n",
    "    AskTool(),\n",
    "    CalculateTool(model=code_llama, summarizer=summarizer),\n",
    "    FunctionCallTool(model=nexus_raven, fn=create_event),\n",
    "    FunctionCallTool(model=nexus_raven, fn=engine.search_images),\n",
    "    FunctionCallTool(model=nexus_raven, fn=engine.search_internet, summarizer=summarizer),\n",
    "    RespondTool(model=mistral_instruct),\n",
    "]\n",
    "\n",
    "client = ChatClient(model=mistral_finetuned)\n",
    "planner = FineTunedPlanner(client=client)\n",
    "agent = Agent(planner=planner, tools=tools)"
   ]
  },
  {
   "cell_type": "code",
   "execution_count": 4,
   "id": "1f2b77c9-4220-41c6-907d-66052d2e1fd8",
   "metadata": {},
   "outputs": [
    {
     "name": "stdout",
     "output_type": "stream",
     "text": [
      "Task: Search for Leo DiCaprio's current girlfriend's name and age.\n",
      "Call: search_internet(query='Leo DiCaprio')\n",
      "Observation: Vittoria Ceretti is Leo DiCaprio's current girlfriend.\n",
      "\n",
      "Task: Search for Vittoria Ceretti's current age.\n",
      "Call: search_internet(query='Vittoria Ceretti')\n",
      "Observation: Vittoria Ceretti is currently 25 years old.\n",
      "\n",
      "Task: Calculate the value of 25 raised to the power of 0.24.\n",
      "```python\n",
      "result = 25 ** 0.24\n",
      "```\n",
      "Observation: The value of 25 raised to the power of 0.24 is approximately 2.16524.\n",
      "\n"
     ]
    },
    {
     "data": {
      "text/plain": [
       "'The value of 25 raised to the power of 0.24 is approximately 2.16524.'"
      ]
     },
     "execution_count": 4,
     "metadata": {},
     "output_type": "execute_result"
    }
   ],
   "source": [
    "agent.run(\"what is Leo DiCaprio's current girlfriend's age raised to the 0.24 power?\")"
   ]
  },
  {
   "cell_type": "code",
   "execution_count": 5,
   "id": "ee0b227c-963d-44c6-aa2a-cedb72b94fba",
   "metadata": {},
   "outputs": [
    {
     "name": "stdout",
     "output_type": "stream",
     "text": [
      "Task: Search Wikipedia for the first appearance of octopuses on Earth.\n",
      "Call: search_internet(query='first appearance of octopuses on Earth')\n",
      "Observation: Octopuses first appeared on Earth during the Cretaceous period, around 155 million years ago.\n",
      "\n",
      "Task: Search Wikipedia for the first appearance of elephants on Earth.\n",
      "Call: search_internet(query='first appearance of elephants on Earth')\n",
      "Observation: Elephants first appeared on Earth around 55 million years ago.\n",
      "\n",
      "Task: Calculate the difference in years between 155 million and 55 million.\n",
      "```python\n",
      "result = 155 - 55\n",
      "```\n",
      "Observation: The difference is 100 million years.\n",
      "\n"
     ]
    },
    {
     "data": {
      "text/plain": [
       "'Octopuses appeared approximately 100 million years earlier than elephants on Earth.'"
      ]
     },
     "execution_count": 5,
     "metadata": {},
     "output_type": "execute_result"
    }
   ],
   "source": [
    "agent.run(\"How many years did octopuses appear earlier \"\n",
    "          \"on Earth, compared to elephants?\")"
   ]
  },
  {
   "cell_type": "code",
   "execution_count": 6,
   "id": "d3afb77b-4a5e-49d7-8e02-5a5b50b70f5c",
   "metadata": {},
   "outputs": [
    {
     "name": "stdout",
     "output_type": "stream",
     "text": [
      "Task: Create an event titled 'Martin's Birthday Party' starting on December 17th at 8pm in 2023.\n",
      "Call: create_event(title='Martin\\'s Birthday Party', date='12/17/2023', time='8pm')\n",
      "Observation: Event Martin's Birthday Party successfully added to calendar, date=12/17/2023, time=8pm\n",
      "\n"
     ]
    },
    {
     "data": {
      "text/plain": [
       "\"You're invited to Martin's Birthday Party on December 17th, 2023 at 8pm.\""
      ]
     },
     "execution_count": 6,
     "metadata": {},
     "output_type": "execute_result"
    }
   ],
   "source": [
    "agent.run(\"Add Martin's birthday party, starting Dec. 17th 2023 8pm, \"\n",
    "          \"to my calendar and respond with a one-line invitation\")"
   ]
  },
  {
   "cell_type": "code",
   "execution_count": 7,
   "id": "406808f6-3399-4182-8f24-8d6438ba240c",
   "metadata": {},
   "outputs": [
    {
     "data": {
      "text/plain": [
       "\"I'm just a computer program, but I'm here to help answer any questions you might have. How about you? How has your day been?\""
      ]
     },
     "execution_count": 7,
     "metadata": {},
     "output_type": "execute_result"
    }
   ],
   "source": [
    "agent.run(\"Hello, how are you?\")"
   ]
  }
 ],
 "metadata": {
  "kernelspec": {
   "display_name": "Python 3 (ipykernel)",
   "language": "python",
   "name": "python3"
  },
  "language_info": {
   "codemirror_mode": {
    "name": "ipython",
    "version": 3
   },
   "file_extension": ".py",
   "mimetype": "text/x-python",
   "name": "python",
   "nbconvert_exporter": "python",
   "pygments_lexer": "ipython3",
   "version": "3.9.19"
  }
 },
 "nbformat": 4,
 "nbformat_minor": 5
}
