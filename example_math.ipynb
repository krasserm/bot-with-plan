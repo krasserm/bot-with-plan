{
 "cells": [
  {
   "cell_type": "markdown",
   "id": "22731fca-1fcb-4272-98da-2ab7938a7f98",
   "metadata": {},
   "source": [
    "### `Llama2Math`\n",
    "\n",
    "Allowing an [agent](example.ipynb) to solve mathematical problems can be done using a specialized LLM. This LLM is used to generate Python code which is subsequently evaluated using a Python interpreter to obtain the result of the generated calculation. This behaviour is implemented in [Llama2Math](https://github.com/krasserm/grammar-based-agents/blob/master/gba/math.py) which uses an instruction tuned LLM to interpret and evaluate mathematical queries. The [Llama2Math](https://github.com/krasserm/grammar-based-agents/blob/master/gba/math.py) interface accepts arbitrary mathematical problems (e.g. `What is the result of 2 times 5, then raised to the power of 0.8 and divided by 2`), translates the problem into runnable Python code using the configured LLM and executes the code to obtain the result.\n",
    "\n",
    "Currently, only CodeLlama models (e.g. [CodeLlama-7b model](https://huggingface.co/TheBloke/CodeLlama-7B-Instruct-GGUF)) are supported.\n",
    "\n",
    "The following examples use a 4-bit quantized [CodeLlama-7b model](https://huggingface.co/TheBloke/CodeLlama-7B-Instruct-GGUF) (launch instructions [here](https://github.com/krasserm/grammar-based-agents/blob/master/README.md#getting-started))."
   ]
  },
  {
   "cell_type": "code",
   "execution_count": 1,
   "id": "064e267e-f315-4b37-911e-f4333a4a22d2",
   "metadata": {},
   "outputs": [],
   "source": [
    "from gba.llm import LlamaCppClient  \n",
    "from gba.math import Llama2Math\n",
    "\n",
    "math_llm = LlamaCppClient(url=\"http://localhost:8088/completion\", temperature=-1)\n",
    "\n",
    "math_model = Llama2Math(llm=math_llm)"
   ]
  },
  {
   "cell_type": "code",
   "execution_count": 2,
   "id": "2c03ff2d-1d8d-4539-9db5-8a5b59813108",
   "metadata": {},
   "outputs": [
    {
     "name": "stdout",
     "output_type": "stream",
     "text": [
      "Executing Llama2Math Python code:\n",
      "```\n",
      "result = (2 * 5) ** 0.8 / 2\n",
      "```\n"
     ]
    },
    {
     "data": {
      "text/plain": [
       "'3.15479'"
      ]
     },
     "execution_count": 2,
     "metadata": {},
     "output_type": "execute_result"
    }
   ],
   "source": [
    "math_model.run(\"What is the result of 2 times 5, then raised to the power of 0.8 and divided by 2\")"
   ]
  },
  {
   "cell_type": "markdown",
   "id": "cfce1709-5629-4efa-aa38-e37516741e09",
   "metadata": {},
   "source": [
    "This example shows the generated Python code to solve the mathematical problem and the result of the code execution which is evaluated to `3.15479`."
   ]
  },
  {
   "cell_type": "markdown",
   "id": "8706a442-9395-4f8c-915a-420160fdfc2b",
   "metadata": {},
   "source": [
    "The following examples demonstrate other types of mathematical queries:"
   ]
  },
  {
   "cell_type": "code",
   "execution_count": 3,
   "id": "602071a7-9d70-4122-91c3-480d63d34e86",
   "metadata": {},
   "outputs": [
    {
     "name": "stdout",
     "output_type": "stream",
     "text": [
      "Executing Llama2Math Python code:\n",
      "```\n",
      "result = pow(73, 0.24)\n",
      "```\n"
     ]
    },
    {
     "data": {
      "text/plain": [
       "'2.80025'"
      ]
     },
     "execution_count": 3,
     "metadata": {},
     "output_type": "execute_result"
    }
   ],
   "source": [
    "math_model.run(\"What is 73 raised to the 0.24 power?\")"
   ]
  },
  {
   "cell_type": "code",
   "execution_count": 4,
   "id": "d89d6592-b45b-40d5-9031-b80e6f775c8c",
   "metadata": {},
   "outputs": [
    {
     "name": "stdout",
     "output_type": "stream",
     "text": [
      "Executing Llama2Math Python code:\n",
      "```\n",
      "result = pow(27, 0.24)\n",
      "```\n"
     ]
    },
    {
     "data": {
      "text/plain": [
       "'2.20560'"
      ]
     },
     "execution_count": 4,
     "metadata": {},
     "output_type": "execute_result"
    }
   ],
   "source": [
    "math_model.run(\"27^0.24\")"
   ]
  },
  {
   "cell_type": "code",
   "execution_count": 5,
   "id": "0d4c9a5c-036e-4e23-8e1e-5b64b4ef123a",
   "metadata": {},
   "outputs": [
    {
     "name": "stdout",
     "output_type": "stream",
     "text": [
      "Executing Llama2Math Python code:\n",
      "```\n",
      "result = 3 * 4\n",
      "```\n"
     ]
    },
    {
     "data": {
      "text/plain": [
       "'12.00000'"
      ]
     },
     "execution_count": 5,
     "metadata": {},
     "output_type": "execute_result"
    }
   ],
   "source": [
    "math_model.run(\"Give me the result of 3*4\")"
   ]
  },
  {
   "cell_type": "code",
   "execution_count": 6,
   "id": "f1d38212-4b16-454e-b347-8c7a872a858e",
   "metadata": {},
   "outputs": [
    {
     "name": "stdout",
     "output_type": "stream",
     "text": [
      "Executing Llama2Math Python code:\n",
      "```\n",
      "result = (2+17+3) ** 0.5\n",
      "```\n"
     ]
    },
    {
     "data": {
      "text/plain": [
       "'4.69042'"
      ]
     },
     "execution_count": 6,
     "metadata": {},
     "output_type": "execute_result"
    }
   ],
   "source": [
    "math_model.run(\"What is (2+17+3) raised to the power of 0.5?\")"
   ]
  },
  {
   "cell_type": "code",
   "execution_count": 7,
   "id": "47512fb5-2852-48b6-a879-cd7c3271d44e",
   "metadata": {},
   "outputs": [
    {
     "name": "stdout",
     "output_type": "stream",
     "text": [
      "Executing Llama2Math Python code:\n",
      "```\n",
      "result = (3 + 4) / 2 * 7.57 ** 1.34\n",
      "```\n"
     ]
    },
    {
     "data": {
      "text/plain": [
       "'52.72985'"
      ]
     },
     "execution_count": 7,
     "metadata": {},
     "output_type": "execute_result"
    }
   ],
   "source": [
    "math_model.run(\"What is the result of three plus four, divided by two, then multiplied by seven point five-seven and then raised to the power of 1.34\")"
   ]
  }
 ],
 "metadata": {
  "kernelspec": {
   "display_name": "Python 3 (ipykernel)",
   "language": "python",
   "name": "python3"
  },
  "language_info": {
   "codemirror_mode": {
    "name": "ipython",
    "version": 3
   },
   "file_extension": ".py",
   "mimetype": "text/x-python",
   "name": "python",
   "nbconvert_exporter": "python",
   "pygments_lexer": "ipython3",
   "version": "3.9.18"
  }
 },
 "nbformat": 4,
 "nbformat_minor": 5
}
